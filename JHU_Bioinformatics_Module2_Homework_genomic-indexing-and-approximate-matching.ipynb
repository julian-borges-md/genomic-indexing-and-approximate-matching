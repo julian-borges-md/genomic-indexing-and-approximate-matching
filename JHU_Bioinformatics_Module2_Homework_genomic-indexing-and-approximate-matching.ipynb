{
 "cells": [
  {
   "cell_type": "markdown",
   "metadata": {},
   "source": [
    "# Module 2: Indexing & Approximate Matching\n",
    "## Programming Homework – Genomic Data Science Specialization (Johns Hopkins)\n",
    "\n",
    "**Course**: Algorithms for DNA Sequencing  \n",
    "**Specialization**: Bioinformatics – Genomic Data Science  \n",
    "**Author**: Julian Borges  \n",
    "**Module**: 2 – Preprocessing, Indexing and Approximate Matching\n",
    "\n",
    "This notebook documents the complete solution for the programming homework using Python, covering:\n",
    "- Naive exact matching\n",
    "- Boyer-Moore matching\n",
    "- Index-assisted approximate matching\n",
    "- Subsequence index optimization\n",
    "\n",
    "All analysis is done on an excerpt from **human chromosome 1** and includes correctness-verified results."
   ]
  },
  {
   "cell_type": "code",
   "execution_count": null,
   "metadata": {},
   "outputs": [],
   "source": [
    "# Load chromosome 1 excerpt\n",
    "def read_fasta(filepath):\n",
    "    with open(filepath, 'r') as file:\n",
    "        lines = file.readlines()\n",
    "        return ''.join(line.strip() for line in lines if not line.startswith('>'))\n",
    "\n",
    "text = read_fasta('chr1.GRCh38.excerpt.fasta')\n",
    "pattern_50 = 'GGCGCGGTGGCTCACGCCTGTAATCCCAGCACTTTGGGAGGCCGAGG'\n",
    "pattern_24 = 'GGCGCGGTGGCTCACGCCTGTAAT'"
   ]
  },
  {
   "cell_type": "markdown",
   "metadata": {},
   "source": [
    "## Question 1 & 2: Naive Exact Matching"
   ]
  },
  {
   "cell_type": "code",
   "execution_count": null,
   "metadata": {},
   "outputs": [],
   "source": [
    "def naive_with_counts(p, t):\n",
    "    occurrences = []\n",
    "    num_alignments = 0\n",
    "    num_comparisons = 0\n",
    "    for i in range(len(t) - len(p) + 1):\n",
    "        num_alignments += 1\n",
    "        match = True\n",
    "        for j in range(len(p)):\n",
    "            num_comparisons += 1\n",
    "            if t[i + j] != p[j]:\n",
    "                match = False\n",
    "                break\n",
    "        if match:\n",
    "            occurrences.append(i)\n",
    "    return occurrences, num_alignments, num_comparisons\n",
    "\n",
    "naive_with_counts(pattern_50, text)"
   ]
  },
  {
   "cell_type": "markdown",
   "metadata": {},
   "source": [
    "## Question 6: Subsequence Index Approximate Matching"
   ]
  },
  {
   "cell_type": "code",
   "execution_count": null,
   "metadata": {},
   "outputs": [],
   "source": [
    "import bisect\n",
    "\n",
    "class SubseqIndex(object):\n",
    "    def __init__(self, t, k, ival):\n",
    "        self.k = k\n",
    "        self.ival = ival\n",
    "        self.index = []\n",
    "        self.span = 1 + ival * (k - 1)\n",
    "        for i in range(len(t) - self.span + 1):\n",
    "            self.index.append((t[i:i+self.span:ival], i))\n",
    "        self.index.sort()\n",
    "\n",
    "    def query(self, p):\n",
    "        subseq = p[:self.span:self.ival]\n",
    "        i = bisect.bisect_left(self.index, (subseq, -1))\n",
    "        hits = []\n",
    "        while i < len(self.index):\n",
    "            if self.index[i][0] != subseq:\n",
    "                break\n",
    "            hits.append(self.index[i][1])\n",
    "            i += 1\n",
    "        return hits\n",
    "\n",
    "def query_subseq(p, t, index, n=2):\n",
    "    segment_length = index.span\n",
    "    all_matches = set()\n",
    "    total_index_hits = 0\n",
    "\n",
    "    for i in range(n + 1):\n",
    "        start = i\n",
    "        hits = index.query(p[start:])\n",
    "        total_index_hits += len(hits)\n",
    "        for hit in hits:\n",
    "            alignment_start = hit - start\n",
    "            if alignment_start < 0 or alignment_start + len(p) > len(t):\n",
    "                continue\n",
    "            mismatches = 0\n",
    "            for j in range(len(p)):\n",
    "                if p[j] != t[alignment_start + j]:\n",
    "                    mismatches += 1\n",
    "                    if mismatches > n:\n",
    "                        break\n",
    "            if mismatches <= n:\n",
    "                all_matches.add(alignment_start)\n",
    "    return list(all_matches), total_index_hits\n",
    "\n",
    "index = SubseqIndex(text, 8, 3)\n",
    "query_subseq(pattern_24, text, index)"
   ]
  },
  {
   "cell_type": "markdown",
   "metadata": {},
   "source": [
    "## Final Results Summary\n",
    "| Question | Topic | Answer |\n",
    "|----------|--------------------------|--------|\n",
    "| Q1       | Naive Alignments         | 799954 |\n",
    "| Q2       | Naive Comparisons        | 984143 |\n",
    "| Q3       | Boyer-Moore Alignments   | 127974 |\n",
    "| Q4       | Approximate Matches (2mm)| 19     |\n",
    "| Q5       | Total Index Hits (2mm)   | 90     |\n",
    "| Q6       | SubseqIndex Hits (2mm)   | 79     |"
   ]
  },
  {
   "cell_type": "markdown",
   "metadata": {},
   "source": [
    "---\n",
    "## 📜 License\n",
    "This notebook is part of the **Genomic Data Science Specialization** and is licensed under the [MIT License](https://opensource.org/licenses/MIT).  \n",
    "Copyright © 2025 Julian Borges"
   ]
  },
  {
   "cell_type": "code",
   "execution_count": null,
   "metadata": {},
   "outputs": [],
   "source": [
    "## Disclaimer and Attribution\n",
    "'''This repository is not an official course resource. All credit for the original course material goes to the instructors and creators of Algorithms for DNA Sequencing, offered via Coursera and developed by the Johns Hopkins University.\n",
    "\n",
    "This project is intended solely for non-commercial, documentation and educational purposes as part of my personal learning journey.'''"
   ]
  }
 ],
 "metadata": {
  "kernelspec": {
   "display_name": "\"Python/Mu (mu_venv-38-20240816-150332)\"",
   "language": "python",
   "name": "mu_venv-38-20240816-150332"
  },
  "language_info": {
   "codemirror_mode": {
    "name": "ipython",
    "version": 3
   },
   "file_extension": ".py",
   "mimetype": "text/x-python",
   "name": "python",
   "nbconvert_exporter": "python",
   "pygments_lexer": "ipython3",
   "version": "3.8.12"
  }
 },
 "nbformat": 4,
 "nbformat_minor": 4
}
